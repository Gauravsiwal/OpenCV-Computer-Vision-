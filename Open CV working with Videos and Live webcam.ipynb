{
 "cells": [
  {
   "cell_type": "raw",
   "id": "6cbd8fa6",
   "metadata": {},
   "source": [
    "0. CV_CAP_PROP_POS_MSEC Current position of the video file in milliseconds.\n",
    "1. CV_CAP_PROP_POS_FRAMES 0-based index of the frame to be decoded/captured next.\n",
    "2. CV_CAP_PROP_POS_AVI_RATIO Relative position of the video file\n",
    "3. CV_CAP_PROP_FRAME_WIDTH Width of the frames in the video stream.\n",
    "4. CV_CAP_PROP_FRAME_HEIGHT Height of the frames in the video stream.\n",
    "5. CV_CAP_PROP_FPS Frame rate.\n",
    "6. CV_CAP_PROP_FOURCC 4-character code of codec.\n",
    "7. CV_CAP_PROP_FRAME_COUNT Number of frames in the video file.\n",
    "8. CV_CAP_PROP_FORMAT Format of the Mat objects returned by retrieve() .\n",
    "9. CV_CAP_PROP_MODE Backend-specific value indicating the current capture mode.\n",
    "10. CV_CAP_PROP_BRIGHTNESS Brightness of the image (only for cameras).\n",
    "11. CV_CAP_PROP_CONTRAST Contrast of the image (only for cameras).\n",
    "12. CV_CAP_PROP_SATURATION Saturation of the image (only for cameras).\n",
    "13. CV_CAP_PROP_HUE Hue of the image (only for cameras).\n",
    "14. CV_CAP_PROP_GAIN Gain of the image (only for cameras).\n",
    "15. CV_CAP_PROP_EXPOSURE Exposure (only for cameras).\n",
    "16. CV_CAP_PROP_CONVERT_RGB Boolean flags indicating whether images should be converted to RGB.\n",
    "17. CV_CAP_PROP_WHITE_BALANCE Currently unsupported\n",
    "18. CV_CAP_PROP_RECTIFICATION Rectification flag for stereo cameras (note: only supported by DC1394 v 2.x backend currently)"
   ]
  },
  {
   "cell_type": "code",
   "execution_count": 2,
   "id": "8b6b69ff",
   "metadata": {},
   "outputs": [],
   "source": [
    "# Live Webcam capture\n",
    "import cv2\n",
    "framewidth = 1000\n",
    "frameheight = 1000\n",
    "\n",
    "cap = cv2.VideoCapture(0)\n",
    "cap.set(3,framewidth)\n",
    "cap.set(4,frameheight)\n",
    "cap.set(10,500)\n",
    "cap.set(15,300)\n",
    "\n",
    "\n",
    "while True:\n",
    "    success,img  = cap.read()\n",
    "    cv2.imshow('Webcam',img)\n",
    "    if cv2.waitKey(1) & 0xFF==ord('q'):\n",
    "        break\n",
    "\n",
    "cap.release()\n",
    "cv2.destroyAllWindows()"
   ]
  },
  {
   "cell_type": "code",
   "execution_count": 3,
   "id": "f391509c",
   "metadata": {},
   "outputs": [],
   "source": [
    "# Video Capturing"
   ]
  },
  {
   "cell_type": "code",
   "execution_count": 4,
   "id": "70f17c9e",
   "metadata": {},
   "outputs": [],
   "source": [
    "import cv2\n",
    "cap = cv2.VideoCapture(r'C:\\Users\\CEA\\Downloads\\lambo.mp4')\n",
    "frame_time= 20\n",
    "\n",
    "while True:\n",
    "    success, img = cap.read()\n",
    "    if not success:\n",
    "        print('Video is Ended or corrupt')\n",
    "        break\n",
    "    cv2.imshow('Video', img)\n",
    "    if cv2.waitKey(frame_time) & 0xFF==ord('q'):\n",
    "        break\n",
    "\n",
    "cap.release()\n",
    "cv2.destroyAllWindows()"
   ]
  },
  {
   "cell_type": "code",
   "execution_count": 5,
   "id": "7cb452ef",
   "metadata": {},
   "outputs": [],
   "source": [
    "# Video RGB to grayscale\n",
    "cap = cv2.VideoCapture(r'C:\\Users\\CEA\\Downloads\\lambo.mp4')\n",
    "frame_time= 1\n",
    "\n",
    "cap.set(3,300)\n",
    "cap.set(4,300)\n",
    "\n",
    "while True:\n",
    "    success, img = cap.read()\n",
    "    if not success:\n",
    "        print('Video is Ended or corrupt')\n",
    "        break\n",
    "    cv2.imshow('Color',img)\n",
    "    grey = cv2.cvtColor(img,cv2.COLOR_BGR2GRAY)\n",
    "    cv2.imshow('Gray',grey)\n",
    "    ret , bin_image = cv2.threshold(grey, 100, 255, cv2.THRESH_BINARY)\n",
    "    cv2.imshow('Black White',bin_image)\n",
    "    #cv2.imshow('Video', grey)\n",
    "    if cv2.waitKey(frame_time) & 0xFF==ord('q'):\n",
    "        break\n",
    "\n",
    "cap.release()\n",
    "cv2.destroyAllWindows()\n",
    "    \n"
   ]
  },
  {
   "cell_type": "code",
   "execution_count": 6,
   "id": "7cb04732",
   "metadata": {},
   "outputs": [],
   "source": [
    "# Saving a video from live webcam"
   ]
  },
  {
   "cell_type": "code",
   "execution_count": 7,
   "id": "1580e13c",
   "metadata": {},
   "outputs": [
    {
     "name": "stdout",
     "output_type": "stream",
     "text": [
      "The video is saved successfully\n"
     ]
    }
   ],
   "source": [
    "import cv2\n",
    "framewidth = 640\n",
    "frameheight = 480\n",
    "\n",
    "cap = cv2.VideoCapture(0)\n",
    "cap.set(3,framewidth)\n",
    "cap.set(4,frameheight)\n",
    "cap.set(10,800)\n",
    "cap.set(15,800)\n",
    "\n",
    "fourcc = cv2.VideoWriter_fourcc(*'XVID')\n",
    "out = cv2.VideoWriter('class_9_july.avi', fourcc, 30, (framewidth,frameheight))\n",
    "\n",
    "while True:\n",
    "    s,img = cap.read()\n",
    "    out.write(img)\n",
    "    cv2.imshow('Live Cam', img)\n",
    "    if cv2.waitKey(frame_time) & 0xFF==ord('q'):\n",
    "        break\n",
    "\n",
    "cap.release()\n",
    "cv2.destroyAllWindows()\n",
    "print('The video is saved successfully')"
   ]
  },
  {
   "cell_type": "code",
   "execution_count": 8,
   "id": "18617720",
   "metadata": {},
   "outputs": [],
   "source": [
    "cap.release()"
   ]
  },
  {
   "cell_type": "code",
   "execution_count": null,
   "id": "58aed013",
   "metadata": {},
   "outputs": [],
   "source": []
  }
 ],
 "metadata": {
  "kernelspec": {
   "display_name": "Python 3 (ipykernel)",
   "language": "python",
   "name": "python3"
  },
  "language_info": {
   "codemirror_mode": {
    "name": "ipython",
    "version": 3
   },
   "file_extension": ".py",
   "mimetype": "text/x-python",
   "name": "python",
   "nbconvert_exporter": "python",
   "pygments_lexer": "ipython3",
   "version": "3.8.8"
  }
 },
 "nbformat": 4,
 "nbformat_minor": 5
}
