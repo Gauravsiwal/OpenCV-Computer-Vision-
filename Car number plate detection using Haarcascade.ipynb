{
 "cells": [
  {
   "cell_type": "code",
   "execution_count": 3,
   "id": "e0097ede",
   "metadata": {},
   "outputs": [],
   "source": [
    "import cv2"
   ]
  },
  {
   "cell_type": "code",
   "execution_count": 4,
   "id": "5fcec364",
   "metadata": {},
   "outputs": [],
   "source": [
    "# Reading a local image with number plate"
   ]
  },
  {
   "cell_type": "code",
   "execution_count": 5,
   "id": "c232484e",
   "metadata": {},
   "outputs": [],
   "source": [
    "img = cv2.imread('car2.jfif')\n",
    "\n",
    "cv2.imshow('Image',img)\n",
    "cv2.waitKey(0)\n",
    "cv2.destroyAllWindows()"
   ]
  },
  {
   "cell_type": "code",
   "execution_count": 6,
   "id": "ed1c510c",
   "metadata": {},
   "outputs": [],
   "source": [
    "imggray = cv2.cvtColor(img, cv2.COLOR_BGR2GRAY)\n",
    "licencecascade = cv2.CascadeClassifier('haarcascade_russian_plate_number.xml')\n",
    "number_plate = licencecascade.detectMultiScale(imggray,1.5,4)\n",
    "\n",
    "for (x,y,w,h) in number_plate:\n",
    "    cv2.rectangle(img,(x,y),(x+w,y+h),(255,0,0),2)\n",
    "    cv2.putText(img,'Number Plate',(x,y-5),fontFace= cv2.FONT_HERSHEY_SIMPLEX, fontScale=1, color=(0,255,0), thickness=3 ) \n",
    "            \n",
    "    img_roi = img[y:y+h,x:x+w]\n",
    "    cv2.imshow('Image',img_roi)\n",
    "    \n",
    "\n",
    "cv2.imshow('Result',img)\n",
    "cv2.waitKey(0)\n",
    "cv2.destroyAllWindows()\n"
   ]
  },
  {
   "cell_type": "code",
   "execution_count": 8,
   "id": "4ca28d04",
   "metadata": {},
   "outputs": [],
   "source": [
    "# Reading a number plate from Live webcam and saving an image of the number plate"
   ]
  },
  {
   "cell_type": "code",
   "execution_count": 7,
   "id": "03aeeb64",
   "metadata": {},
   "outputs": [],
   "source": [
    "import cv2\n",
    "licencecascade = cv2.CascadeClassifier('haarcascade_russian_plate_number.xml')\n",
    "framewidth = 640\n",
    "frameheight = 480\n",
    "\n",
    "cap = cv2.VideoCapture(0)\n",
    "cap.set(3,framewidth)\n",
    "cap.set(4,frameheight)\n",
    "cap.set(10,150)\n",
    "cap.set(15,200)\n",
    "count=0\n",
    "\n",
    "while True:\n",
    "    success,img  = cap.read()\n",
    "    imggray = cv2.cvtColor(img, cv2.COLOR_BGR2GRAY)\n",
    "    number_plate = licencecascade.detectMultiScale(imggray,1.5,4)\n",
    "\n",
    "    for (x,y,w,h) in number_plate:\n",
    "        cv2.rectangle(img,(x,y),(x+w,y+h),(255,0,0),2)\n",
    "        cv2.putText(img,'Number Plate',(x,y-5),fontFace= cv2.FONT_HERSHEY_SIMPLEX, fontScale=1, color=(0,255,0), thickness=3 ) \n",
    "            \n",
    "        img_roi = img[y:y+h,x:x+w]\n",
    "        cv2.imshow('Image',img_roi)\n",
    "    cv2.imshow('Output',img)\n",
    "    if cv2.waitKey(1) & 0xFF==ord('q'):\n",
    "        break\n",
    "\n",
    "\n",
    "    elif cv2.waitKey(1) & 0xFF==ord('s'):\n",
    "        cv2.imwrite('Image_number_'+str(count)+'.jpg',img_roi)\n",
    "        cv2.putText(img,'Scaned',(x,y-15),fontFace= cv2.FONT_HERSHEY_SIMPLEX, fontScale=1, color=(0,255,255), thickness=3 )\n",
    "        cv2.imshow('result',img_roi)\n",
    "        cv2.waitKey(500)\n",
    "        count+=1\n",
    "        \n",
    "cap.release()\n",
    "cv2.destroyAllWindows()\n"
   ]
  },
  {
   "cell_type": "code",
   "execution_count": null,
   "id": "f31b6ecb",
   "metadata": {},
   "outputs": [],
   "source": []
  }
 ],
 "metadata": {
  "kernelspec": {
   "display_name": "Python 3 (ipykernel)",
   "language": "python",
   "name": "python3"
  },
  "language_info": {
   "codemirror_mode": {
    "name": "ipython",
    "version": 3
   },
   "file_extension": ".py",
   "mimetype": "text/x-python",
   "name": "python",
   "nbconvert_exporter": "python",
   "pygments_lexer": "ipython3",
   "version": "3.8.8"
  }
 },
 "nbformat": 4,
 "nbformat_minor": 5
}
