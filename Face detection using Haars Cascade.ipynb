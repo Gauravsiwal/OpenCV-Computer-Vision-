{
 "cells": [
  {
   "cell_type": "code",
   "execution_count": 1,
   "id": "ca12861e",
   "metadata": {},
   "outputs": [],
   "source": [
    "# Using Haarcascade (pretrained model) to detect face from image and live cam\n",
    "\n",
    "import cv2\n",
    "\n",
    "face_cascade = cv2.CascadeClassifier('haarcascade_frontalface_default.xml')\n",
    "smile_cascade = cv2.CascadeClassifier('haarcascade_smile.xml')"
   ]
  },
  {
   "cell_type": "code",
   "execution_count": 2,
   "id": "bf4ff91a",
   "metadata": {},
   "outputs": [],
   "source": [
    "img = cv2.imread('car_person.jpg') # Read an Image with face"
   ]
  },
  {
   "cell_type": "code",
   "execution_count": 3,
   "id": "98342c5e",
   "metadata": {},
   "outputs": [],
   "source": [
    "cv2.imshow('Image',img)\n",
    "cv2.waitKey(0)\n",
    "cv2.destroyAllWindows()"
   ]
  },
  {
   "cell_type": "code",
   "execution_count": 4,
   "id": "93c89cf1",
   "metadata": {},
   "outputs": [],
   "source": [
    "imggray = cv2.cvtColor(img, cv2.COLOR_BGR2GRAY)"
   ]
  },
  {
   "cell_type": "code",
   "execution_count": 5,
   "id": "0ef424c8",
   "metadata": {},
   "outputs": [],
   "source": [
    "faces = face_cascade.detectMultiScale(imggray,1.01,10)"
   ]
  },
  {
   "cell_type": "code",
   "execution_count": 6,
   "id": "f47413ef",
   "metadata": {},
   "outputs": [],
   "source": [
    "for (x,y,w,h) in faces:\n",
    "    cv2.rectangle(img,(x,y),(x+w,y+h),(0,255,0),2)"
   ]
  },
  {
   "cell_type": "code",
   "execution_count": 7,
   "id": "ad574839",
   "metadata": {},
   "outputs": [],
   "source": [
    "cv2.imshow('Image',img)\n",
    "cv2.waitKey(0)\n",
    "cv2.destroyAllWindows()"
   ]
  },
  {
   "cell_type": "code",
   "execution_count": 8,
   "id": "c7189af1",
   "metadata": {},
   "outputs": [],
   "source": [
    "# Through Webcam\n",
    "\n",
    "import cv2\n",
    "framewidth = 640\n",
    "frameheight = 480\n",
    "\n",
    "cap = cv2.VideoCapture(0)\n",
    "cap.set(3,framewidth)\n",
    "cap.set(4,frameheight)\n",
    "cap.set(10,250)\n",
    "cap.set(15,250)\n",
    "\n",
    "\n",
    "while True:\n",
    "    success,img  = cap.read()\n",
    "    \n",
    "    faces = face_cascade.detectMultiScale(img,1.05,10)\n",
    "    smile = smile_cascade.detectMultiScale(img,1.55,20)\n",
    "    for (x,y,w,h) in faces:\n",
    "        cv2.rectangle(img,(x,y),(x+w,y+h),(0,255,0),2)\n",
    "        cv2.imshow('Webcam',img)\n",
    "    for (x,y,w,h) in smile:\n",
    "        cv2.rectangle(img,(x,y),(x+w,y+h),(0,255,0),2)\n",
    "        cv2.imshow('Webcam',img)\n",
    "    \n",
    "    if cv2.waitKey(1) & 0xFF==ord('q'):\n",
    "        break\n",
    "\n",
    "cap.release()\n",
    "cv2.destroyAllWindows()"
   ]
  },
  {
   "cell_type": "code",
   "execution_count": null,
   "id": "f8439c5a",
   "metadata": {},
   "outputs": [],
   "source": []
  }
 ],
 "metadata": {
  "kernelspec": {
   "display_name": "Python 3 (ipykernel)",
   "language": "python",
   "name": "python3"
  },
  "language_info": {
   "codemirror_mode": {
    "name": "ipython",
    "version": 3
   },
   "file_extension": ".py",
   "mimetype": "text/x-python",
   "name": "python",
   "nbconvert_exporter": "python",
   "pygments_lexer": "ipython3",
   "version": "3.8.8"
  }
 },
 "nbformat": 4,
 "nbformat_minor": 5
}
