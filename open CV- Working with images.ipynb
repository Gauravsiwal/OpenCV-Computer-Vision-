{
 "cells": [
  {
   "cell_type": "code",
   "execution_count": 1,
   "id": "dcea3320",
   "metadata": {},
   "outputs": [],
   "source": [
    "#pip install opencv-python"
   ]
  },
  {
   "cell_type": "code",
   "execution_count": 2,
   "id": "29b33f26",
   "metadata": {},
   "outputs": [],
   "source": [
    "import cv2"
   ]
  },
  {
   "cell_type": "code",
   "execution_count": 3,
   "id": "0febd818",
   "metadata": {},
   "outputs": [],
   "source": [
    "# Read an image\n",
    "\n",
    "img_color = cv2.imread('image.jpg',cv2.IMREAD_COLOR)\n",
    "\n",
    "img_grayscale = cv2.imread('image.jpg',cv2.IMREAD_GRAYSCALE)\n",
    "\n",
    "img_unchanged = cv2.imread('image.jpg',cv2.IMREAD_UNCHANGED)\n"
   ]
  },
  {
   "cell_type": "code",
   "execution_count": 4,
   "id": "83ea1b35",
   "metadata": {},
   "outputs": [],
   "source": [
    "#Displays image inside a window\n",
    "\n",
    "cv2.imshow('color image',img_color) \n",
    "\n",
    "cv2.imshow('grayscale image',img_grayscale)\n",
    "\n",
    "cv2.imshow('unchanged image',img_unchanged)\n",
    "\n",
    "# Waits for a keystroke\n",
    "cv2.waitKey(0) \n",
    "\n",
    "# Destroys all the windows created\n",
    "\n",
    "cv2.destroyAllWindows()\n"
   ]
  },
  {
   "cell_type": "code",
   "execution_count": 5,
   "id": "be14601a",
   "metadata": {},
   "outputs": [
    {
     "data": {
      "text/plain": [
       "True"
      ]
     },
     "execution_count": 5,
     "metadata": {},
     "output_type": "execute_result"
    }
   ],
   "source": [
    "# Writing an image\n",
    "cv2.imwrite('grayscale_image.jpg',img_grayscale)\n"
   ]
  },
  {
   "cell_type": "code",
   "execution_count": 6,
   "id": "528ff596",
   "metadata": {},
   "outputs": [],
   "source": [
    "# let's start with the Imports\n",
    "\n",
    "import cv2\n",
    "import numpy as np\n",
    "\n",
    "# Read the image using imread function\n",
    "image = cv2.imread('image.jpg')\n",
    "cv2.imshow('Original Image', image)\n",
    "# let's downscale the image using new  width and height\n",
    "down_width = 300\n",
    "down_height = 200\n",
    "down_points = (down_width, down_height)\n",
    "resized_down = cv2.resize(image, down_points, interpolation= cv2.INTER_LINEAR)\n",
    "# let's upscale the image using new  width and height\n",
    "up_width = 600\n",
    "up_height = 400\n",
    "up_points = (up_width, up_height)\n",
    "resized_up = cv2.resize(image, up_points, interpolation= cv2.INTER_LINEAR)\n",
    "# Display images\n",
    "cv2.imshow('Resized Down by defining height and width', resized_down)\n",
    "cv2.waitKey()\n",
    "cv2.imshow('Resized Up image by defining height and width', resized_up)\n",
    "cv2.waitKey()\n",
    "\n",
    "#press any key to close the windows\n",
    "cv2.destroyAllWindows()\n"
   ]
  },
  {
   "cell_type": "markdown",
   "id": "ad74190c",
   "metadata": {},
   "source": [
    "INTER_AREA: INTER_AREA uses pixel area relation for resampling. This is best suited for reducing the size of an image (shrinking). When used for zooming into the image, it uses the INTER_NEAREST method.\n",
    "\n",
    "INTER_CUBIC: This uses bicubic interpolation for resizing the image. While resizing and interpolating new pixels, this method acts on the 4×4 neighboring pixels of the image. It then takes the weights average of the 16 pixels to create the new interpolated pixel.\n",
    "\n",
    "INTER_LINEAR: This method is somewhat similar to the INTER_CUBIC interpolation. But unlike INTER_CUBIC, this uses 2×2 neighboring pixels to get the weighted average for the interpolated pixel.\n",
    "\n",
    "INTER_NEAREST: The INTER_NEAREST method uses the nearest neighbor concept for interpolation. This is one of the simplest methods, using only one neighboring pixel from the image for interpolation."
   ]
  },
  {
   "cell_type": "code",
   "execution_count": 7,
   "id": "9afbce32",
   "metadata": {},
   "outputs": [],
   "source": [
    "# Scaling Up the image 1.2 times by specifying both scaling factors\n",
    "import cv2\n",
    "scale_up_x = 1.2\n",
    "scale_up_y = 1.2\n",
    "\n",
    "# Scaling Down the image 0.6 times specifying a single scale factor.\n",
    "\n",
    "scale_down = 0.6\n",
    "\n",
    "scaled_f_down = cv2.resize(image, None, fx= scale_down, fy= scale_down, interpolation= cv2.INTER_LINEAR)\n",
    "\n",
    "scaled_f_up = cv2.resize(image, None, fx= scale_up_x, fy= scale_up_y, interpolation= cv2.INTER_LINEAR)"
   ]
  },
  {
   "cell_type": "code",
   "execution_count": 8,
   "id": "850f94d4",
   "metadata": {},
   "outputs": [],
   "source": [
    "# Display images and press any key to check next image\n",
    "\n",
    "cv2.imshow('Resized Down by defining scaling factor', scaled_f_down)\n",
    "\n",
    "cv2.waitKey()\n",
    "\n",
    "cv2.imshow('Resized Up image by defining scaling factor', scaled_f_up)\n",
    "\n",
    "cv2.waitKey()\n",
    "cv2.destroyAllWindows()\n"
   ]
  },
  {
   "cell_type": "code",
   "execution_count": 9,
   "id": "4c8723bb",
   "metadata": {},
   "outputs": [],
   "source": [
    "# Scaling Down the image 0.6 times using different Interpolation Method\n",
    "\n",
    "res_inter_nearest = cv2.resize(image, None, fx= scale_down, fy= scale_down, interpolation= cv2.INTER_NEAREST)\n",
    "\n",
    "res_inter_linear = cv2.resize(image, None, fx= scale_down, fy= scale_down, interpolation= cv2.INTER_LINEAR)\n",
    "\n",
    "res_inter_area = cv2.resize(image, None, fx= scale_down, fy= scale_down, interpolation= cv2.INTER_AREA)"
   ]
  },
  {
   "cell_type": "code",
   "execution_count": 10,
   "id": "f71b827e",
   "metadata": {},
   "outputs": [],
   "source": [
    "# Concatenate images in horizontal axis for comparison\n",
    "\n",
    "vertical= np.concatenate((res_inter_nearest, res_inter_linear, res_inter_area), axis = 0)\n",
    "\n",
    "# Display the image Press any key to continue\n",
    "\n",
    "cv2.imshow('Inter Nearest :: Inter Linear :: Inter Area', vertical)\n",
    "cv2.waitKey()\n",
    "cv2.destroyAllWindows()"
   ]
  },
  {
   "cell_type": "code",
   "execution_count": 11,
   "id": "1fa3f286",
   "metadata": {},
   "outputs": [
    {
     "name": "stdout",
     "output_type": "stream",
     "text": [
      "(682, 1024, 3)\n"
     ]
    }
   ],
   "source": [
    "# Crop Image\n",
    "\n",
    "# Import packages\n",
    "\n",
    "import cv2\n",
    "import numpy as np\n",
    "\n",
    "img = cv2.imread('image.jpg')\n",
    "print(img.shape) # Print image shape\n",
    "cv2.imshow(\"original\", img)\n",
    "\n",
    "# Cropping an image\n",
    "cropped_image = img[200:550, 300:800]\n",
    "# Display cropped image\n",
    "cv2.imshow(\"cropped\", cropped_image)\n",
    "\n",
    "# Save the cropped image\n",
    "cv2.imwrite(\"Cropped Image.jpg\", cropped_image)\n",
    "\n",
    " \n",
    "cv2.waitKey(0)\n",
    "cv2.destroyAllWindows()\n"
   ]
  },
  {
   "cell_type": "code",
   "execution_count": 12,
   "id": "e3874d25",
   "metadata": {},
   "outputs": [
    {
     "data": {
      "text/plain": [
       "True"
      ]
     },
     "execution_count": 12,
     "metadata": {},
     "output_type": "execute_result"
    }
   ],
   "source": [
    "# ROTATING AN IMAGE\n",
    "\n",
    "# dividing height and width by 2 to get the center of the image\n",
    "height, width = image.shape[:2]\n",
    "\n",
    "# get the center coordinates of the image to create the 2D rotation matrix\n",
    "center = (width/2, height/2)\n",
    "\n",
    "# using cv2.getRotationMatrix2D() to get the rotation matrix\n",
    "rotate_matrix = cv2.getRotationMatrix2D(center=center, angle=45, scale=1)\n",
    "\n",
    "# rotate the image using cv2.warpAffine\n",
    "rotated_image = cv2.warpAffine(src=image, M=rotate_matrix, dsize=(width, height))\n",
    "\n",
    "cv2.imshow('Original image', image)\n",
    "cv2.imshow('Rotated image', rotated_image)\n",
    "\n",
    "# wait indefinitely, press any key on keyboard to exit\n",
    "cv2.waitKey(0)\n",
    "cv2.destroyAllWindows()\n",
    "\n",
    "# save the rotated image to disk\n",
    "cv2.imwrite('rotated_image.jpg', rotated_image)\n"
   ]
  },
  {
   "cell_type": "code",
   "execution_count": 13,
   "id": "858f08ad",
   "metadata": {},
   "outputs": [],
   "source": [
    "# IMAGE TRANSLATION\n",
    "\n",
    "# get the width and height of the image\n",
    "height, width = image.shape[:2]\n",
    "\n",
    "# get tx and ty values for translation\n",
    "# you can specify any value of your choice\n",
    "tx, ty = width / 4, height / 4\n",
    "\n",
    "# create the translation matrix using tx and ty, it is a NumPy array\n",
    "translation_matrix = np.array([\n",
    "    [1, 0, tx],\n",
    "    [0, 1, ty]], dtype=np.float32)\n",
    "\n",
    "translated_image = cv2.warpAffine(src=image, M=translation_matrix, dsize=(width, height))\n",
    "\n",
    "cv2.imshow('Translated image', translated_image)\n",
    "cv2.imshow('Original image', image)\n",
    "cv2.waitKey(0)\n",
    "cv2.destroyAllWindows()\n"
   ]
  },
  {
   "cell_type": "code",
   "execution_count": 14,
   "id": "cb1a07b2",
   "metadata": {},
   "outputs": [],
   "source": [
    "# Annotations\n",
    "\n",
    "# make a copy of the original image\n",
    "\n",
    "imageRectangle = image.copy()\n",
    "\n",
    "# define the starting and end points of the rectangle\n",
    "start_point =(300,200)\n",
    "end_point =(800,550)\n",
    "\n",
    "# draw the rectangle\n",
    "cv2.rectangle(imageRectangle, start_point, end_point, (255, 0, 255), thickness= 3, lineType=cv2.LINE_8)\n",
    "\n",
    "\n",
    "text = 'Love you Forever'\n",
    "#org: Where you want to put the text\n",
    "org = (300,190)\n",
    "# write the text on the input image\n",
    "cv2.putText(imageRectangle, text, org, fontFace = cv2.FONT_HERSHEY_COMPLEX, fontScale = 1.8, color = (250,225,100), thickness=2)\n",
    "\n",
    "# display the output\n",
    "cv2.imshow('imageRectangle', imageRectangle)\n",
    "cv2.waitKey(0)\n",
    "cv2.destroyAllWindows()"
   ]
  }
 ],
 "metadata": {
  "kernelspec": {
   "display_name": "Python 3 (ipykernel)",
   "language": "python",
   "name": "python3"
  },
  "language_info": {
   "codemirror_mode": {
    "name": "ipython",
    "version": 3
   },
   "file_extension": ".py",
   "mimetype": "text/x-python",
   "name": "python",
   "nbconvert_exporter": "python",
   "pygments_lexer": "ipython3",
   "version": "3.8.8"
  }
 },
 "nbformat": 4,
 "nbformat_minor": 5
}
